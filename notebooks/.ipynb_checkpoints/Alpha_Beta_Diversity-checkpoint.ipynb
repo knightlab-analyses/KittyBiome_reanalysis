{
 "cells": [
  {
   "cell_type": "code",
   "execution_count": 1,
   "id": "07d25a56",
   "metadata": {},
   "outputs": [
    {
     "name": "stdout",
     "output_type": "stream",
     "text": [
      "q2cli version 2024.5.0\r\n",
      "Run `qiime info` for more version details.\r\n"
     ]
    }
   ],
   "source": [
    "#Need a Qiime2 environment\n",
    "!qiime --version"
   ]
  },
  {
   "cell_type": "code",
   "execution_count": 2,
   "id": "26f79adf",
   "metadata": {},
   "outputs": [
    {
     "name": "stdout",
     "output_type": "stream",
     "text": [
      "\u001b[32mSaved FeatureTable[Frequency] to: ../data/194334_trim150_deblur_feature-table_all.qza\u001b[0m\r\n",
      "\u001b[0m"
     ]
    }
   ],
   "source": [
    "!qiime feature-table merge \\\n",
    "    --i-tables ../data/194334_trim150_deblur_feature-table_shelter.qza ../data/194345_trim150_deblur_feature-table_healthy.qza \\\n",
    "    --o-merged-table ../data/194334_trim150_deblur_feature-table_all.qza"
   ]
  },
  {
   "cell_type": "code",
   "execution_count": 18,
   "id": "0fd1a10b",
   "metadata": {},
   "outputs": [
    {
     "name": "stdout",
     "output_type": "stream",
     "text": [
      "\u001b[32mSaved Visualization to: ../data/194334_trim150_deblur_feature-table_all.qzv\u001b[0m\n",
      "\u001b[0m\u001b[32mSaved Visualization to: ../data/194345_trim150_deblur_feature-table_healthy.qzv\u001b[0m\n",
      "\u001b[0m\u001b[32mSaved Visualization to: ../data/194334_trim150_deblur_feature-table_shelter.qzv\u001b[0m\n",
      "\u001b[0m"
     ]
    }
   ],
   "source": [
    "!qiime feature-table summarize \\\n",
    "    --i-table ../data/194334_trim150_deblur_feature-table_all.qza \\\n",
    "    --m-sample-metadata-file ../data/Kittybiome_Metadata_cleaned-short.txt \\\n",
    "    --o-visualization ../data/194334_trim150_deblur_feature-table_all.qzv\n",
    "\n",
    "!qiime feature-table summarize \\\n",
    "    --i-table ../data/194345_trim150_deblur_feature-table_healthy.qza \\\n",
    "    --m-sample-metadata-file ../data/Kittybiome_Metadata_cleaned-short.txt \\\n",
    "    --o-visualization ../data/194345_trim150_deblur_feature-table_healthy.qzv\n",
    "\n",
    "!qiime feature-table summarize \\\n",
    "    --i-table ../data/194334_trim150_deblur_feature-table_shelter.qza \\\n",
    "    --m-sample-metadata-file ../data/Kittybiome_Metadata_cleaned-short.txt \\\n",
    "    --o-visualization ../data/194334_trim150_deblur_feature-table_shelter.qzv"
   ]
  },
  {
   "cell_type": "code",
   "execution_count": 9,
   "id": "af50b652",
   "metadata": {},
   "outputs": [
    {
     "name": "stdout",
     "output_type": "stream",
     "text": [
      "\u001b[32mSaved FeatureData[Taxonomy] to: ../data/KittyBiome_taxonomy_all.qza\u001b[0m\n",
      "\u001b[0m"
     ]
    }
   ],
   "source": [
    "!qiime greengenes2 taxonomy-from-table \\\n",
    "    --i-reference-taxonomy ../../greengenes2/2022.10.taxonomy.asv.nwk.qza \\\n",
    "    --i-table ../data/194334_trim150_deblur_feature-table_all.qza \\\n",
    "    --o-classification ../data/KittyBiome_taxonomy_all.qza"
   ]
  },
  {
   "cell_type": "markdown",
   "id": "89e091dd",
   "metadata": {},
   "source": [
    "# Healthy Animals Only"
   ]
  },
  {
   "cell_type": "code",
   "execution_count": 28,
   "id": "59699832",
   "metadata": {},
   "outputs": [
    {
     "name": "stdout",
     "output_type": "stream",
     "text": [
      "\u001b[32mSaved FeatureTable[Frequency] to: ../data/KittyBiome_gg2_healthy.qza\u001b[0m\n",
      "\u001b[0m"
     ]
    }
   ],
   "source": [
    "!qiime greengenes2 filter-features \\\n",
    "    --i-feature-table ../data/194345_trim150_deblur_feature-table_healthy.qza \\\n",
    "    --i-reference ../../greengenes2/2022.10.taxonomy.asv.nwk.qza \\\n",
    "    --o-filtered-feature-table ../data/KittyBiome_gg2_healthy.qza"
   ]
  },
  {
   "cell_type": "code",
   "execution_count": 30,
   "id": "b25a8a52",
   "metadata": {},
   "outputs": [
    {
     "name": "stdout",
     "output_type": "stream",
     "text": [
      "\u001b[32mSaved Visualization to: ../data/healthy_alpha_rar.qza.qzv\u001b[0m\n",
      "\u001b[0m"
     ]
    }
   ],
   "source": [
    "!qiime diversity alpha-rarefaction \\\n",
    "    --i-table ../data/KittyBiome_gg2_healthy.qza \\\n",
    "    --i-phylogeny ../../greengenes2/2022.10.phylogeny.asv.nwk.qza \\\n",
    "    --p-min-depth 3000 \\\n",
    "    --p-max-depth 15000 \\\n",
    "    --m-metadata-file ../data/Kittybiome_Metadata_cleaned-short.txt \\\n",
    "    --o-visualization ../data/healthy_alpha_rar.qza"
   ]
  },
  {
   "cell_type": "code",
   "execution_count": 31,
   "id": "312c242a",
   "metadata": {},
   "outputs": [
    {
     "name": "stdout",
     "output_type": "stream",
     "text": [
      "\u001b[32mSaved FeatureTable[Frequency] to: ../data/core_diversity_healty_r11800/rarefied_table.qza\u001b[0m\n",
      "\u001b[32mSaved SampleData[AlphaDiversity] to: ../data/core_diversity_healty_r11800/faith_pd_vector.qza\u001b[0m\n",
      "\u001b[32mSaved SampleData[AlphaDiversity] to: ../data/core_diversity_healty_r11800/observed_features_vector.qza\u001b[0m\n",
      "\u001b[32mSaved SampleData[AlphaDiversity] to: ../data/core_diversity_healty_r11800/shannon_vector.qza\u001b[0m\n",
      "\u001b[32mSaved SampleData[AlphaDiversity] to: ../data/core_diversity_healty_r11800/evenness_vector.qza\u001b[0m\n",
      "\u001b[32mSaved DistanceMatrix to: ../data/core_diversity_healty_r11800/unweighted_unifrac_distance_matrix.qza\u001b[0m\n",
      "\u001b[32mSaved DistanceMatrix to: ../data/core_diversity_healty_r11800/weighted_unifrac_distance_matrix.qza\u001b[0m\n",
      "\u001b[32mSaved DistanceMatrix to: ../data/core_diversity_healty_r11800/jaccard_distance_matrix.qza\u001b[0m\n",
      "\u001b[32mSaved DistanceMatrix to: ../data/core_diversity_healty_r11800/bray_curtis_distance_matrix.qza\u001b[0m\n",
      "\u001b[32mSaved PCoAResults to: ../data/core_diversity_healty_r11800/unweighted_unifrac_pcoa_results.qza\u001b[0m\n",
      "\u001b[32mSaved PCoAResults to: ../data/core_diversity_healty_r11800/weighted_unifrac_pcoa_results.qza\u001b[0m\n",
      "\u001b[32mSaved PCoAResults to: ../data/core_diversity_healty_r11800/jaccard_pcoa_results.qza\u001b[0m\n",
      "\u001b[32mSaved PCoAResults to: ../data/core_diversity_healty_r11800/bray_curtis_pcoa_results.qza\u001b[0m\n",
      "\u001b[32mSaved Visualization to: ../data/core_diversity_healty_r11800/unweighted_unifrac_emperor.qzv\u001b[0m\n",
      "\u001b[32mSaved Visualization to: ../data/core_diversity_healty_r11800/weighted_unifrac_emperor.qzv\u001b[0m\n",
      "\u001b[32mSaved Visualization to: ../data/core_diversity_healty_r11800/jaccard_emperor.qzv\u001b[0m\n",
      "\u001b[32mSaved Visualization to: ../data/core_diversity_healty_r11800/bray_curtis_emperor.qzv\u001b[0m\n",
      "\u001b[0m"
     ]
    }
   ],
   "source": [
    "!qiime diversity core-metrics-phylogenetic \\\n",
    "    --i-table ../data/../data/KittyBiome_gg2_healthy.qza \\\n",
    "    --i-phylogeny ../../greengenes2/2022.10.phylogeny.asv.nwk.qza \\\n",
    "    --p-sampling-depth 11800 \\\n",
    "    --m-metadata-file ../data/Kittybiome_Metadata_cleaned-short.txt \\\n",
    "    --output-dir ../data/core_diversity_healthy_r11800"
   ]
  },
  {
   "cell_type": "code",
   "execution_count": 36,
   "id": "f894a41d",
   "metadata": {},
   "outputs": [
    {
     "name": "stdout",
     "output_type": "stream",
     "text": [
      "\u001b[32mSaved Visualization to: ../data/core_diversity_healthy_r11800/fecal_gg2filt_uwUF_emp2.qzv\u001b[0m\n",
      "\u001b[0m\u001b[32mSaved Visualization to: ../data/core_diversity_healthy_r11800/fecal_gg2filt_wUF_emp2.qzv\u001b[0m\n",
      "\u001b[0m"
     ]
    }
   ],
   "source": [
    "!qiime emperor plot \\\n",
    "    --i-pcoa ../data/core_diversity_healthy_r11800/unweighted_unifrac_pcoa_results.qza \\\n",
    "    --m-metadata-file ../data/Kittybiome_Metadata_cleaned-short.txt \\\n",
    "    --p-custom-axes host_age_years_numeric \\\n",
    "    --o-visualization ../data/core_diversity_healthy_r11800/fecal_gg2filt_uwUF_emp2.qzv\n",
    "\n",
    "!qiime emperor plot \\\n",
    "    --i-pcoa ../data/core_diversity_healthy_r11800/weighted_unifrac_pcoa_results.qza \\\n",
    "    --m-metadata-file ../data/Kittybiome_Metadata_cleaned-short.txt \\\n",
    "    --p-custom-axes host_age_years_numeric \\\n",
    "    --o-visualization ../data/core_diversity_healthy_r11800/fecal_gg2filt_wUF_emp2.qzv"
   ]
  },
  {
   "cell_type": "code",
   "execution_count": 132,
   "id": "c805950f",
   "metadata": {},
   "outputs": [
    {
     "name": "stdout",
     "output_type": "stream",
     "text": [
      "\u001b[32mSaved Visualization to: ../data/core_diversity_healthy_r11800/observed_features_vector.qzv\u001b[0m\n",
      "\u001b[0m\u001b[32mSaved Visualization to: ../data/core_diversity_healthy_r11800/faith_pd_vector.qzv\u001b[0m\n",
      "\u001b[0m\u001b[32mSaved Visualization to: ../data/core_diversity_healthy_r11800/shannon_vector.qzv\u001b[0m\n",
      "\u001b[0m"
     ]
    }
   ],
   "source": [
    "!qiime diversity alpha-group-significance \\\n",
    "    --i-alpha-diversity ../data/core_diversity_healthy_r11800/observed_features_vector.qza \\\n",
    "    --m-metadata-file ../data/Kittybiome_Metadata_cleaned-short.txt \\\n",
    "    --o-visualization ../data/core_diversity_healthy_r11800/observed_features_vector.qzv\n",
    "\n",
    "!qiime diversity alpha-group-significance \\\n",
    "    --i-alpha-diversity ../data/core_diversity_healthy_r11800/faith_pd_vector.qza \\\n",
    "    --m-metadata-file ../data/Kittybiome_Metadata_cleaned-short.txt \\\n",
    "    --o-visualization ../data/core_diversity_healthy_r11800/faith_pd_vector.qzv\n",
    "\n",
    "!qiime diversity alpha-group-significance \\\n",
    "    --i-alpha-diversity ../data/core_diversity_healthy_r11800/shannon_vector.qza \\\n",
    "    --m-metadata-file ../data/Kittybiome_Metadata_cleaned-short.txt \\\n",
    "    --o-visualization ../data/core_diversity_healthy_r11800/shannon_vector.qzv"
   ]
  },
  {
   "cell_type": "code",
   "execution_count": 34,
   "id": "74d03106",
   "metadata": {},
   "outputs": [
    {
     "name": "stdout",
     "output_type": "stream",
     "text": [
      "\u001b[32mSaved Visualization to: ../data/core_diversity_healty_r11800/fecal_gg2_wUF_bsig_sex.qzv\u001b[0m\n",
      "\u001b[0m\u001b[32mSaved Visualization to: ../data/core_diversity_healty_r11800/fecal_gg2_wUF_bsig_age-cat.qzv\u001b[0m\n",
      "\u001b[0m"
     ]
    }
   ],
   "source": [
    "!qiime diversity beta-group-significance \\\n",
    "    --i-distance-matrix ../data/core_diversity_healthy_r11800/weighted_unifrac_distance_matrix.qza \\\n",
    "    --m-metadata-file ../data/Kittybiome_Metadata_cleaned-short.txt \\\n",
    "    --m-metadata-column Sex \\\n",
    "    --p-method permanova \\\n",
    "    --p-pairwise \\\n",
    "    --o-visualization ../data/core_diversity_healthy_r11800/fecal_gg2_wUF_bsig_sex.qzv\n",
    "\n",
    "!qiime diversity beta-group-significance \\\n",
    "    --i-distance-matrix ../data/core_diversity_healthy_r11800/weighted_unifrac_distance_matrix.qza \\\n",
    "    --m-metadata-file ../data/Kittybiome_Metadata_cleaned-short.txt \\\n",
    "    --m-metadata-column Age_Group \\\n",
    "    --p-method permanova \\\n",
    "    --p-pairwise \\\n",
    "    --o-visualization ../data/core_diversity_healthy_r11800/fecal_gg2_wUF_bsig_age-cat.qzv"
   ]
  },
  {
   "cell_type": "code",
   "execution_count": 11,
   "id": "14fcd681",
   "metadata": {},
   "outputs": [
    {
     "name": "stdout",
     "output_type": "stream",
     "text": [
      "\u001b[32mSaved Visualization to: ../data/core_diversity_healthy_r11800/fecal_gg2_wUF_bsig_kibble.qzv\u001b[0m\n",
      "\u001b[0m"
     ]
    }
   ],
   "source": [
    "!qiime diversity beta-group-significance \\\n",
    "    --i-distance-matrix ../data/core_diversity_healthy_r11800/weighted_unifrac_distance_matrix.qza \\\n",
    "    --m-metadata-file ../data/Kittybiome_Metadata_cleaned-short.txt \\\n",
    "    --m-metadata-column diet_Dry_kibble \\\n",
    "    --p-method permanova \\\n",
    "    --p-pairwise True \\\n",
    "    --o-visualization ../data/core_diversity_healthy_r11800/fecal_gg2_wUF_bsig_kibble.qzv"
   ]
  },
  {
   "cell_type": "code",
   "execution_count": 1,
   "id": "16bded78",
   "metadata": {},
   "outputs": [
    {
     "name": "stdout",
     "output_type": "stream",
     "text": [
      "\u001b[32mSaved Visualization to: ../data/core_diversity_healthy_r11800/fecal_gg2_braycurtis_bsig_kibble.qzv\u001b[0m\r\n",
      "\u001b[0m"
     ]
    }
   ],
   "source": [
    "!qiime diversity beta-group-significance \\\n",
    "    --i-distance-matrix ../data/core_diversity_healthy_r11800/bray_curtis_distance_matrix.qza \\\n",
    "    --m-metadata-file ../data/Kittybiome_Metadata_cleaned-short.txt \\\n",
    "    --m-metadata-column diet_Dry_kibble \\\n",
    "    --p-method permanova \\\n",
    "    --p-pairwise True \\\n",
    "    --o-visualization ../data/core_diversity_healthy_r11800/fecal_gg2_braycurtis_bsig_kibble.qzv"
   ]
  },
  {
   "cell_type": "code",
   "execution_count": 2,
   "id": "87566b04",
   "metadata": {},
   "outputs": [
    {
     "name": "stdout",
     "output_type": "stream",
     "text": [
      "\u001b[32mSaved Visualization to: ../data/core_diversity_healthy_r11800/fecal_gg2_braycurtis_bsig_diet-form.qzv\u001b[0m\r\n",
      "\u001b[0m"
     ]
    }
   ],
   "source": [
    "!qiime diversity beta-group-significance \\\n",
    "    --i-distance-matrix ../data/core_diversity_healthy_r11800/bray_curtis_distance_matrix.qza \\\n",
    "    --m-metadata-file ../data/Kittybiome_Metadata_cleaned-short.txt \\\n",
    "    --m-metadata-column diet_form \\\n",
    "    --p-method permanova \\\n",
    "    --p-pairwise True \\\n",
    "    --o-visualization ../data/core_diversity_healthy_r11800/fecal_gg2_braycurtis_bsig_diet-form.qzv"
   ]
  },
  {
   "cell_type": "code",
   "execution_count": 131,
   "id": "d03ef46b",
   "metadata": {},
   "outputs": [
    {
     "name": "stdout",
     "output_type": "stream",
     "text": [
      "\u001b[32mExported ../data/core_diversity_healthy_r11800/shannon_vector.qza as AlphaDiversityDirectoryFormat to directory ../data/core_diversity_healthy_r11800/shannon_vector\u001b[0m\n",
      "\u001b[0m\u001b[32mExported ../data/core_diversity_healthy_r11800/faith_pd_vector.qza as AlphaDiversityDirectoryFormat to directory ../data/core_diversity_healthy_r11800/faith_pd_vector\u001b[0m\n",
      "\u001b[0m\u001b[32mExported ../data/core_diversity_healthy_r11800/observed_features_vector.qza as AlphaDiversityDirectoryFormat to directory ../data/core_diversity_healthy_r11800/observed_features_vector\u001b[0m\n",
      "\u001b[0m"
     ]
    }
   ],
   "source": [
    "!qiime tools export \\\n",
    "    --input-path ../data/core_diversity_healthy_r11800/shannon_vector.qza \\\n",
    "    --output-path ../data/core_diversity_healthy_r11800/shannon_vector\n",
    "\n",
    "!qiime tools export \\\n",
    "    --input-path ../data/core_diversity_healthy_r11800/faith_pd_vector.qza  \\\n",
    "    --output-path ../data/core_diversity_healthy_r11800/faith_pd_vector\n",
    "\n",
    "!qiime tools export \\\n",
    "    --input-path ../data/core_diversity_healthy_r11800/observed_features_vector.qza \\\n",
    "    --output-path ../data/core_diversity_healthy_r11800/observed_features_vector"
   ]
  },
  {
   "cell_type": "markdown",
   "id": "75630d41",
   "metadata": {},
   "source": [
    "## ANCOM-BC"
   ]
  },
  {
   "cell_type": "markdown",
   "id": "6bc8bed7",
   "metadata": {},
   "source": [
    "### BCS"
   ]
  },
  {
   "cell_type": "code",
   "execution_count": 1,
   "id": "d3464d9d",
   "metadata": {},
   "outputs": [
    {
     "name": "stdout",
     "output_type": "stream",
     "text": [
      "\u001b[32mSaved FeatureTable[Frequency] to: ../data/KittyBiome_gg2_healthy_BCSplus.qza\u001b[0m\n",
      "\u001b[0m\u001b[32mSaved FeatureTable[Frequency] to: ../data/KittyBiome_gg2_healthy_BCSplus_fam.qza\u001b[0m\n",
      "\u001b[0m"
     ]
    }
   ],
   "source": [
    "!qiime feature-table filter-samples \\\n",
    "    --i-table ../data/KittyBiome_gg2_healthy.qza \\\n",
    "    --m-metadata-file ../data/Kittybiome_Metadata_cleaned-short.txt \\\n",
    "    --p-where '[body_condition_category] IN (\"Ideal\", \"Overweight\")' \\\n",
    "    --o-filtered-table ../data/KittyBiome_gg2_healthy_BCSplus.qza\n",
    "\n",
    "!qiime taxa collapse \\\n",
    "    --i-table ../data/KittyBiome_gg2_healthy_BCSplus.qza \\\n",
    "    --i-taxonomy ../data/KittyBiome_taxonomy_all.qza \\\n",
    "    --p-level 5 \\\n",
    "    --o-collapsed-table ../data/KittyBiome_gg2_healthy_BCSplus_fam.qza"
   ]
  },
  {
   "cell_type": "code",
   "execution_count": 6,
   "id": "fe0ad51a",
   "metadata": {},
   "outputs": [
    {
     "name": "stdout",
     "output_type": "stream",
     "text": [
      "\u001b[32mSaved Visualization to: ../data/KittyBiome_gg2_healthy_BCSplus.qzv\u001b[0m\r\n",
      "\u001b[0m"
     ]
    }
   ],
   "source": [
    "!qiime feature-table summarize \\\n",
    "    --i-table ../data/KittyBiome_gg2_healthy_BCSplus.qza \\\n",
    "    --m-sample-metadata-file ../data/Kittybiome_Metadata_cleaned-short.txt \\\n",
    "    --o-visualization ../data/KittyBiome_gg2_healthy_BCSplus.qzv"
   ]
  },
  {
   "cell_type": "code",
   "execution_count": 8,
   "id": "06dbc788",
   "metadata": {},
   "outputs": [
    {
     "name": "stdout",
     "output_type": "stream",
     "text": [
      "\u001b[32mSaved FeatureData[DifferentialAbundance] to: ../data/KittyBiome_gg2_healthy_BCSplus_fam_ancombc-diff.qza\u001b[0m\r\n",
      "\u001b[0m"
     ]
    }
   ],
   "source": [
    "!qiime composition ancombc \\\n",
    "    --i-table ../data/KittyBiome_gg2_healthy_BCSplus_fam.qza \\\n",
    "    --m-metadata-file ../data/Kittybiome_Metadata_cleaned-short.txt \\\n",
    "    --p-formula body_condition_category \\\n",
    "    --o-differentials ../data/KittyBiome_gg2_healthy_BCSplus_fam_ancombc-diff.qza"
   ]
  },
  {
   "cell_type": "code",
   "execution_count": 10,
   "id": "532b380f",
   "metadata": {},
   "outputs": [
    {
     "name": "stdout",
     "output_type": "stream",
     "text": [
      "\u001b[32mExported ../data/KittyBiome_gg2_healthy_BCSplus_fam_ancombc-diff.qza as DataLoafPackageDirFmt to directory ../data/KittyBiome_gg2_healthy_BCSplus_fam_ancombc-diff\u001b[0m\n",
      "\u001b[0m"
     ]
    }
   ],
   "source": [
    "!qiime tools export \\\n",
    "    --input-path ../data/KittyBiome_gg2_healthy_BCSplus_fam_ancombc-diff.qza \\\n",
    "    --output-path ../data/KittyBiome_gg2_healthy_BCSplus_fam_ancombc-diff"
   ]
  },
  {
   "cell_type": "code",
   "execution_count": 7,
   "id": "2c605a2e",
   "metadata": {},
   "outputs": [
    {
     "name": "stdout",
     "output_type": "stream",
     "text": [
      "\u001b[32mSaved Visualization to: ../data/KittyBiome_gg2_healthy_BCSplus_fam_ancombc-barplot.qzv\u001b[0m\r\n",
      "\u001b[0m"
     ]
    }
   ],
   "source": [
    "!qiime composition da-barplot \\\n",
    "  --i-data ../data/KittyBiome_gg2_healthy_BCSplus_fam_ancombc-diff.qza \\\n",
    "  --p-significance-threshold 0.05 \\\n",
    "  --p-effect-size-threshold 1 \\\n",
    "  --o-visualization ../data/KittyBiome_gg2_healthy_BCSplus_fam_ancombc-barplot.qzv\n",
    "#nothing significant"
   ]
  },
  {
   "cell_type": "markdown",
   "id": "a6edf6d5",
   "metadata": {},
   "source": [
    "### Kibble"
   ]
  },
  {
   "cell_type": "code",
   "execution_count": 13,
   "id": "d0758ed1",
   "metadata": {},
   "outputs": [
    {
     "name": "stdout",
     "output_type": "stream",
     "text": [
      "\u001b[32mSaved FeatureTable[Frequency] to: ../data/KittyBiome_gg2_healthy_kibble.qza\u001b[0m\n",
      "\u001b[0m\u001b[32mSaved FeatureTable[Frequency] to: ../data/KittyBiome_gg2_healthy_kibble_fam.qza\u001b[0m\n",
      "\u001b[0m"
     ]
    }
   ],
   "source": [
    "!qiime feature-table filter-samples \\\n",
    "    --i-table ../data/KittyBiome_gg2_healthy.qza \\\n",
    "    --m-metadata-file ../data/Kittybiome_Metadata_cleaned-short.txt \\\n",
    "    --p-where '[diet_Dry_kibble] IN (\"yes\", \"no\")' \\\n",
    "    --o-filtered-table ../data/KittyBiome_gg2_healthy_kibble.qza\n",
    "\n",
    "!qiime taxa collapse \\\n",
    "    --i-table ../data/KittyBiome_gg2_healthy_kibble.qza \\\n",
    "    --i-taxonomy ../data/KittyBiome_taxonomy_all.qza \\\n",
    "    --p-level 5 \\\n",
    "    --o-collapsed-table ../data/KittyBiome_gg2_healthy_kibble_fam.qza"
   ]
  },
  {
   "cell_type": "code",
   "execution_count": 14,
   "id": "c3257b08",
   "metadata": {},
   "outputs": [
    {
     "name": "stdout",
     "output_type": "stream",
     "text": [
      "\u001b[32mSaved FeatureData[DifferentialAbundance] to: ../data/KittyBiome_gg2_healthy_kibble_fam_ancombc-diff.qza\u001b[0m\r\n",
      "\u001b[0m"
     ]
    }
   ],
   "source": [
    "!qiime composition ancombc \\\n",
    "    --i-table ../data/KittyBiome_gg2_healthy_kibble_fam.qza \\\n",
    "    --m-metadata-file ../data/Kittybiome_Metadata_cleaned-short.txt \\\n",
    "    --p-formula diet_Dry_kibble \\\n",
    "    --o-differentials ../data/KittyBiome_gg2_healthy_kibble_fam_ancombc-diff.qza"
   ]
  },
  {
   "cell_type": "code",
   "execution_count": 3,
   "id": "8023e87c",
   "metadata": {},
   "outputs": [
    {
     "name": "stdout",
     "output_type": "stream",
     "text": [
      "\u001b[32mSaved Visualization to: ../data/KittyBiome_gg2_healthy_kibble_fam_ancombc-barplot.qzv\u001b[0m\n",
      "\u001b[0m"
     ]
    }
   ],
   "source": [
    "!qiime composition da-barplot \\\n",
    "  --i-data ../data/KittyBiome_gg2_healthy_kibble_fam_ancombc-diff.qza \\\n",
    "  --p-significance-threshold 0.05 \\\n",
    "  --p-effect-size-threshold 1 \\\n",
    "  --p-level-delimiter ';' \\\n",
    "  --o-visualization ../data/KittyBiome_gg2_healthy_kibble_fam_ancombc-barplot.qzv"
   ]
  },
  {
   "cell_type": "code",
   "execution_count": 5,
   "id": "87369b80",
   "metadata": {},
   "outputs": [
    {
     "name": "stdout",
     "output_type": "stream",
     "text": [
      "\u001b[32mSaved Visualization to: ../data/KittyBiome_gg2_healthy_kibble_fam_ancombc-barplot2.qzv\u001b[0m\n",
      "\u001b[0m"
     ]
    }
   ],
   "source": [
    "!qiime composition da-barplot \\\n",
    "  --i-data ../data/KittyBiome_gg2_healthy_kibble_fam_ancombc-diff.qza \\\n",
    "  --p-significance-threshold 0.1 \\\n",
    "  --p-effect-size-threshold 0.25 \\\n",
    "  --p-level-delimiter ';' \\\n",
    "  --o-visualization ../data/KittyBiome_gg2_healthy_kibble_fam_ancombc-barplot2.qzv"
   ]
  },
  {
   "cell_type": "code",
   "execution_count": 6,
   "id": "3f33df69",
   "metadata": {},
   "outputs": [
    {
     "name": "stdout",
     "output_type": "stream",
     "text": [
      "\u001b[32mSaved FeatureTable[Frequency] to: ../data/KittyBiome_gg2_healthy_kibble_genus.qza\u001b[0m\r\n",
      "\u001b[0m"
     ]
    }
   ],
   "source": [
    "!qiime taxa collapse \\\n",
    "    --i-table ../data/KittyBiome_gg2_healthy_kibble.qza \\\n",
    "    --i-taxonomy ../data/KittyBiome_taxonomy_all.qza \\\n",
    "    --p-level 6 \\\n",
    "    --o-collapsed-table ../data/KittyBiome_gg2_healthy_kibble_genus.qza"
   ]
  },
  {
   "cell_type": "code",
   "execution_count": 7,
   "id": "0be3273a",
   "metadata": {},
   "outputs": [
    {
     "name": "stdout",
     "output_type": "stream",
     "text": [
      "/Users/callaband/miniforge3/envs/qiime2-metagenome-2024.5/lib/python3.9/site-packages/qiime2/metadata/io.py:365: FutureWarning: Downcasting behavior in `replace` is deprecated and will be removed in a future version. To retain the old behavior, explicitly call `result.infer_objects(copy=False)`. To opt-in to the future behavior, set `pd.set_option('future.no_silent_downcasting', True)`\n",
      "  series = series.replace('', np.nan)\n",
      "\u001b[32mSaved FeatureData[DifferentialAbundance] to: ../data/KittyBiome_gg2_healthy_kibble_genus_ancombc-diff.qza\u001b[0m\n",
      "\u001b[0m"
     ]
    }
   ],
   "source": [
    "!qiime composition ancombc \\\n",
    "    --i-table ../data/KittyBiome_gg2_healthy_kibble_genus.qza \\\n",
    "    --m-metadata-file ../data/Kittybiome_Metadata_cleaned-short.txt \\\n",
    "    --p-formula diet_Dry_kibble \\\n",
    "    --o-differentials ../data/KittyBiome_gg2_healthy_kibble_genus_ancombc-diff.qza"
   ]
  },
  {
   "cell_type": "code",
   "execution_count": 9,
   "id": "22339e04",
   "metadata": {},
   "outputs": [
    {
     "name": "stdout",
     "output_type": "stream",
     "text": [
      "\u001b[32mSaved Visualization to: ../data/KittyBiome_gg2_healthy_kibble_genus_ancombc-barplot.qzv\u001b[0m\r\n",
      "\u001b[0m"
     ]
    }
   ],
   "source": [
    "!qiime composition da-barplot \\\n",
    "  --i-data ../data/KittyBiome_gg2_healthy_kibble_genus_ancombc-diff.qza \\\n",
    "  --p-significance-threshold 0.05 \\\n",
    "  --p-effect-size-threshold 0.5 \\\n",
    "  --p-level-delimiter ';' \\\n",
    "  --o-visualization ../data/KittyBiome_gg2_healthy_kibble_genus_ancombc-barplot.qzv"
   ]
  },
  {
   "cell_type": "code",
   "execution_count": 10,
   "id": "c0679164",
   "metadata": {},
   "outputs": [
    {
     "name": "stdout",
     "output_type": "stream",
     "text": [
      "\u001b[32mSaved Visualization to: ../data/KittyBiome_gg2_healthy_kibble_genus_ancombc-barplot2.qzv\u001b[0m\r\n",
      "\u001b[0m"
     ]
    }
   ],
   "source": [
    "!qiime composition da-barplot \\\n",
    "  --i-data ../data/KittyBiome_gg2_healthy_kibble_genus_ancombc-diff.qza \\\n",
    "  --p-significance-threshold 0.1 \\\n",
    "  --p-effect-size-threshold 0.25 \\\n",
    "  --p-level-delimiter ';' \\\n",
    "  --o-visualization ../data/KittyBiome_gg2_healthy_kibble_genus_ancombc-barplot2.qzv"
   ]
  },
  {
   "cell_type": "markdown",
   "id": "a826bdd8",
   "metadata": {},
   "source": [
    "# RPCA"
   ]
  },
  {
   "cell_type": "code",
   "execution_count": 44,
   "id": "a120d7ad",
   "metadata": {},
   "outputs": [
    {
     "name": "stdout",
     "output_type": "stream",
     "text": [
      "/Users/callaband/miniforge3/envs/qiime2-amplicon-2024.2/lib/python3.8/site-packages/qiime2/core/cache.py:468: UserWarning: Your temporary cache was found to be in an inconsistent state. It has been recreated.\n",
      "  warnings.warn(\n",
      "\u001b[32mSaved PCoAResults % Properties('biplot') to: ../data/rpca_healthy/healthy_rar_RPCA-ordination.qza\u001b[0m\n",
      "\u001b[32mSaved DistanceMatrix to: ../data/rpca_healthy/healthy_rar_RPCA-dm.qza\u001b[0m\n",
      "\u001b[0m\u001b[32mSaved FeatureTable[Frequency] to: ../data/KittyBiome_gg2_healthy_filt.qza\u001b[0m\n",
      "\u001b[0m\u001b[32mSaved PCoAResults % Properties('biplot') to: ../data/rpca_healthy/healthy_non-rar_RPCA-ordination.qza\u001b[0m\n",
      "\u001b[32mSaved DistanceMatrix to: ../data/rpca_healthy/healthy_non-rar_RPCA-dm.qza\u001b[0m\n",
      "\u001b[0m"
     ]
    }
   ],
   "source": [
    "#check if rarifaction needs to be done:\n",
    "!qiime gemelli rpca \\\n",
    "    --i-table ../data/core_diversity_healthy_r11800/rarefied_table.qza \\\n",
    "    --o-biplot ../data/rpca_healthy/healthy_rar_RPCA-ordination.qza \\\n",
    "    --o-distance-matrix ../data/rpca_healthy/healthy_rar_RPCA-dm.qza\n",
    "\n",
    "!qiime feature-table filter-samples \\\n",
    "    --i-table ../data/KittyBiome_gg2_healthy.qza \\\n",
    "    --p-min-frequency 11800 \\\n",
    "    --o-filtered-table ../data/KittyBiome_gg2_healthy_filt.qza\n",
    "#need to have the same exact samples in both so remove the sample lists match\n",
    "#do not actually rareify!\n",
    "\n",
    "!qiime gemelli rpca \\\n",
    "    --i-table ../data/KittyBiome_gg2_healthy_filt.qza \\\n",
    "    --o-biplot ../data/rpca_healthy/healthy_non-rar_RPCA-ordination.qza \\\n",
    "    --o-distance-matrix ../data/rpca_healthy/healthy_non-rar_RPCA-dm.qza"
   ]
  },
  {
   "cell_type": "code",
   "execution_count": 1,
   "id": "132e3a36",
   "metadata": {},
   "outputs": [
    {
     "name": "stdout",
     "output_type": "stream",
     "text": [
      "\u001b[32mSaved Visualization to: ../data/rpca_healthy/healthy_RPCA-rarefy-qc.qzv\u001b[0m\r\n",
      "\u001b[0m"
     ]
    }
   ],
   "source": [
    "!qiime gemelli qc-rarefy \\\n",
    "    --i-table ../data/KittyBiome_gg2_healthy_filt.qza \\\n",
    "    --i-rarefied-distance ../data/rpca_healthy/healthy_rar_RPCA-dm.qza \\\n",
    "    --i-unrarefied-distance ../data/rpca_healthy/healthy_non-rar_RPCA-dm.qza \\\n",
    "    --o-visualization ../data/rpca_healthy/healthy_RPCA-rarefy-qc.qzv\n",
    "#Steiger test shows significant (p=0.039) difference between rarified and non-rarified tables\n",
    "# Unrar does not have a significant correlation between abs sum and rpca distances on the plot (good to rarefy in that case)\n",
    "# Neither appears better than the other in the distribution plots, unrarefied is preferred, so go with that"
   ]
  },
  {
   "cell_type": "markdown",
   "id": "80ebb58f",
   "metadata": {},
   "source": [
    "### Unrarified"
   ]
  },
  {
   "cell_type": "code",
   "execution_count": 70,
   "id": "f980ad65",
   "metadata": {},
   "outputs": [
    {
     "name": "stdout",
     "output_type": "stream",
     "text": [
      "\u001b[32mSaved PCoAResults % Properties('biplot') to: ../data/rpca_healthy_unrar/healthy_unrar_RPCA-ordination.qza\u001b[0m\n",
      "\u001b[32mSaved DistanceMatrix to: ../data/rpca_healthy_unrar/healthy_unrar_RPCA-dm.qza\u001b[0m\n",
      "\u001b[0m"
     ]
    }
   ],
   "source": [
    "!qiime gemelli rpca \\\n",
    "    --i-table ../data/KittyBiome_gg2_healthy.qza \\\n",
    "    --p-min-sample-count 500 \\\n",
    "    --o-biplot ../data/rpca_healthy_unrar/healthy_unrar_RPCA-ordination.qza \\\n",
    "    --o-distance-matrix ../data/rpca_healthy_unrar/healthy_unrar_RPCA-dm.qza"
   ]
  },
  {
   "cell_type": "code",
   "execution_count": 71,
   "id": "e1baeb0a",
   "metadata": {},
   "outputs": [
    {
     "name": "stdout",
     "output_type": "stream",
     "text": [
      "\u001b[32mSaved Visualization to: ../data/rpca_healthy_unrar/healthy_unrar_RPCA-ordination.qzv\u001b[0m\n",
      "\u001b[0m\u001b[32mSaved Visualization to: ../data/rpca_healthy_unrar/healthy_unrar_RPCA_rpca-empplot.qzv\u001b[0m\n",
      "\u001b[0m"
     ]
    }
   ],
   "source": [
    "!qiime emperor biplot \\\n",
    "    --i-biplot ../data/rpca_healthy_unrar/healthy_non-rar_RPCA-ordination.qza \\\n",
    "    --m-sample-metadata-file ../data/Kittybiome_Metadata_cleaned-short.txt \\\n",
    "    --m-feature-metadata-file ../data/KittyBiome_taxonomy_all.qza \\\n",
    "    --p-number-of-features 10 \\\n",
    "    --o-visualization ../data/rpca_healthy_unrar/healthy_unrar_RPCA-ordination.qzv\n",
    "\n",
    "!qiime emperor plot \\\n",
    "    --i-pcoa ../data/rpca_healthy_unrar/healthy_non-rar_RPCA-ordination.qza \\\n",
    "    --m-metadata-file ../data/Kittybiome_Metadata_cleaned-short.txt \\\n",
    "    --p-custom-axes host_age_years_numeric \\\n",
    "    --p-ignore-pcoa-features True \\\n",
    "    --o-visualization ../data/rpca_healthy_unrar/healthy_unrar_RPCA_rpca-empplot.qzv"
   ]
  },
  {
   "cell_type": "markdown",
   "id": "10615526",
   "metadata": {},
   "source": [
    "### Just for known dietary forms"
   ]
  },
  {
   "cell_type": "code",
   "execution_count": 5,
   "id": "363fdbfc",
   "metadata": {},
   "outputs": [
    {
     "name": "stdout",
     "output_type": "stream",
     "text": [
      "\u001b[32mSaved FeatureTable[Frequency] to: ../data/rpca_healthy_unrar/KittyBiome_gg2_healthy_diet-form.qza\u001b[0m\n",
      "\u001b[0m"
     ]
    }
   ],
   "source": [
    "!qiime feature-table filter-samples \\\n",
    "    --i-table ../data/KittyBiome_gg2_healthy.qza \\\n",
    "    --m-metadata-file ../data/Kittybiome_Metadata_cleaned-short.txt \\\n",
    "    --p-where '[diet_form]=\"unknown\" OR [diet_Raw]=\"yes\"' \\\n",
    "    --p-exclude-ids True \\\n",
    "    --o-filtered-table ../data/rpca_healthy_unrar/KittyBiome_gg2_healthy_diet-form.qza\n",
    "#N=77"
   ]
  },
  {
   "cell_type": "code",
   "execution_count": 7,
   "id": "21a322a9",
   "metadata": {},
   "outputs": [
    {
     "name": "stdout",
     "output_type": "stream",
     "text": [
      "\u001b[32mSaved PCoAResults % Properties('biplot') to: ../data/rpca_healthy_unrar/healthy_unrar_RPCA_diet-form_ordination.qza\u001b[0m\n",
      "\u001b[32mSaved DistanceMatrix to: ../data/rpca_healthy_unrar/healthy_unrar_RPCA_diet-form_dm.qza\u001b[0m\n",
      "\u001b[0m"
     ]
    }
   ],
   "source": [
    "!qiime gemelli rpca \\\n",
    "    --i-table  ../data/rpca_healthy_unrar/KittyBiome_gg2_healthy_diet-form.qza \\\n",
    "    --p-min-sample-count 500 \\\n",
    "    --o-biplot ../data/rpca_healthy_unrar/healthy_unrar_RPCA_diet-form_ordination.qza \\\n",
    "    --o-distance-matrix ../data/rpca_healthy_unrar/healthy_unrar_RPCA_diet-form_dm.qza"
   ]
  },
  {
   "cell_type": "code",
   "execution_count": 8,
   "id": "28946b32",
   "metadata": {},
   "outputs": [
    {
     "name": "stdout",
     "output_type": "stream",
     "text": [
      "\u001b[32mSaved Visualization to: ../data/rpca_healthy_unrar/healthy_unrar_RPCA_diet-form_empplot.qzv\u001b[0m\n",
      "\u001b[0m"
     ]
    }
   ],
   "source": [
    "!qiime emperor plot \\\n",
    "    --i-pcoa ../data/rpca_healthy_unrar/healthy_unrar_RPCA_diet-form_ordination.qza \\\n",
    "    --m-metadata-file ../data/Kittybiome_Metadata_cleaned-short.txt \\\n",
    "    --p-custom-axes host_age_years_numeric \\\n",
    "    --p-ignore-pcoa-features True \\\n",
    "    --o-visualization ../data/rpca_healthy_unrar/healthy_unrar_RPCA_diet-form_empplot.qzv"
   ]
  },
  {
   "cell_type": "code",
   "execution_count": 9,
   "id": "da369f6a",
   "metadata": {},
   "outputs": [
    {
     "name": "stdout",
     "output_type": "stream",
     "text": [
      "\u001b[32mSaved Visualization to: ../data/rpca_healthy_unrar/healthy_unrar_RPCA_diet-form-only_bsig.qzv\u001b[0m\n",
      "\u001b[0m"
     ]
    }
   ],
   "source": [
    "!qiime diversity beta-group-significance \\\n",
    "    --i-distance-matrix ../data/rpca_healthy_unrar/healthy_unrar_RPCA_diet-form_dm.qza \\\n",
    "    --m-metadata-file ../data/Kittybiome_Metadata_cleaned-short.txt \\\n",
    "    --m-metadata-column diet_form \\\n",
    "    --p-method permanova \\\n",
    "    --p-pairwise \\\n",
    "    --o-visualization ../data/rpca_healthy_unrar/healthy_unrar_RPCA_diet-form-only_bsig.qzv"
   ]
  },
  {
   "cell_type": "markdown",
   "id": "ac4eb2b1",
   "metadata": {},
   "source": [
    "### Kibble Yes/No only"
   ]
  },
  {
   "cell_type": "code",
   "execution_count": 76,
   "id": "65bac86d",
   "metadata": {},
   "outputs": [
    {
     "name": "stdout",
     "output_type": "stream",
     "text": [
      "\u001b[32mSaved FeatureTable[Frequency] to: ../data/rpca_healthy_unrar/KittyBiome_gg2_healthy_kibble.qza\u001b[0m\r\n",
      "\u001b[0m"
     ]
    }
   ],
   "source": [
    "!qiime feature-table filter-samples \\\n",
    "    --i-table ../data/KittyBiome_gg2_healthy.qza \\\n",
    "    --m-metadata-file ../data/Kittybiome_Metadata_cleaned-short.txt \\\n",
    "    --p-where '[diet_Dry_kibble] IN (\"yes\", \"no\")' \\\n",
    "    --o-filtered-table ../data/rpca_healthy_unrar/KittyBiome_gg2_healthy_kibble.qza"
   ]
  },
  {
   "cell_type": "code",
   "execution_count": 77,
   "id": "943782ea",
   "metadata": {},
   "outputs": [
    {
     "name": "stdout",
     "output_type": "stream",
     "text": [
      "\u001b[32mSaved PCoAResults % Properties('biplot') to: ../data/rpca_healthy_unrar/healthy_unrar_RPCA_kibble_ordination.qza\u001b[0m\n",
      "\u001b[32mSaved DistanceMatrix to: ../data/rpca_healthy_unrar/healthy_unrar_RPCA_kibble_dm.qza\u001b[0m\n",
      "\u001b[0m"
     ]
    }
   ],
   "source": [
    "!qiime gemelli rpca \\\n",
    "    --i-table  ../data/rpca_healthy_unrar/KittyBiome_gg2_healthy_kibble.qza \\\n",
    "    --p-min-sample-count 500 \\\n",
    "    --o-biplot ../data/rpca_healthy_unrar/healthy_unrar_RPCA_kibble_ordination.qza \\\n",
    "    --o-distance-matrix ../data/rpca_healthy_unrar/healthy_unrar_RPCA_kibble_dm.qza"
   ]
  },
  {
   "cell_type": "code",
   "execution_count": 78,
   "id": "1050ee87",
   "metadata": {},
   "outputs": [
    {
     "name": "stdout",
     "output_type": "stream",
     "text": [
      "\u001b[32mSaved Visualization to: ../data/rpca_healthy_unrar/healthy_unrar_RPCA_kibble_empplot.qzv\u001b[0m\r\n",
      "\u001b[0m"
     ]
    }
   ],
   "source": [
    "!qiime emperor plot \\\n",
    "    --i-pcoa ../data/rpca_healthy_unrar/healthy_unrar_RPCA_kibble_ordination.qza \\\n",
    "    --m-metadata-file ../data/Kittybiome_Metadata_cleaned-short.txt \\\n",
    "    --p-custom-axes host_age_years_numeric \\\n",
    "    --p-ignore-pcoa-features True \\\n",
    "    --o-visualization ../data/rpca_healthy_unrar/healthy_unrar_RPCA_kibble_empplot.qzv"
   ]
  },
  {
   "cell_type": "code",
   "execution_count": 79,
   "id": "1162b5c5",
   "metadata": {},
   "outputs": [
    {
     "name": "stdout",
     "output_type": "stream",
     "text": [
      "\u001b[32mSaved Visualization to: ../data/rpca_healthy_unrar/healthy_unrar_RPCA_kibble_bsig-kibble.qzv\u001b[0m\r\n",
      "\u001b[0m"
     ]
    }
   ],
   "source": [
    "!qiime diversity beta-group-significance \\\n",
    "    --i-distance-matrix ../data/rpca_healthy_unrar/healthy_unrar_RPCA_diet-form_dm.qza \\\n",
    "    --m-metadata-file ../data/Kittybiome_Metadata_cleaned-short.txt \\\n",
    "    --m-metadata-column diet_Dry_kibble \\\n",
    "    --p-method permanova \\\n",
    "    --p-pairwise \\\n",
    "    --o-visualization ../data/rpca_healthy_unrar/healthy_unrar_RPCA_kibble_bsig-kibble.qzv"
   ]
  },
  {
   "cell_type": "markdown",
   "id": "5d8e1085",
   "metadata": {},
   "source": [
    "### Ends"
   ]
  },
  {
   "cell_type": "code",
   "execution_count": 66,
   "id": "4e3d4ce8",
   "metadata": {},
   "outputs": [
    {
     "name": "stdout",
     "output_type": "stream",
     "text": [
      "\u001b[32mSaved Visualization to: ../data/rpca_healthy_unrar/healthy_unrar_rpca_bsig_sex.qzv\u001b[0m\n",
      "\u001b[0m\u001b[32mSaved Visualization to: ../data/rpca_healthy_unrar/healthy_unrar_rpca_bsig_age-cat.qzv\u001b[0m\n",
      "\u001b[0m"
     ]
    }
   ],
   "source": [
    "!qiime diversity beta-group-significance \\\n",
    "    --i-distance-matrix ../data/rpca_healthy_unrar/healthy_non-rar_RPCA-dm.qza \\\n",
    "    --m-metadata-file ../data/Kittybiome_Metadata_cleaned-short.txt \\\n",
    "    --m-metadata-column Sex \\\n",
    "    --p-method permanova \\\n",
    "    --p-pairwise \\\n",
    "    --o-visualization ../data/rpca_healthy_unrar/healthy_unrar_rpca_bsig_sex.qzv\n",
    "\n",
    "!qiime diversity beta-group-significance \\\n",
    "    --i-distance-matrix ../data/rpca_healthy_unrar/healthy_non-rar_RPCA-dm.qza \\\n",
    "    --m-metadata-file ../data/Kittybiome_Metadata_cleaned-short.txt \\\n",
    "    --m-metadata-column Age_Group \\\n",
    "    --p-method permanova \\\n",
    "    --p-pairwise \\\n",
    "    --o-visualization ../data/rpca_healthy_unrar/healthy_unrar_rpca_bsig_age-cat.qzv"
   ]
  },
  {
   "cell_type": "code",
   "execution_count": 67,
   "id": "f6e44934",
   "metadata": {},
   "outputs": [
    {
     "name": "stdout",
     "output_type": "stream",
     "text": [
      "\u001b[32mSaved Visualization to: ../data/rpca_healthy_unrar/healthy_unrar_rpca_bsig_kibble.qzv\u001b[0m\r\n",
      "\u001b[0m"
     ]
    }
   ],
   "source": [
    "!qiime diversity beta-group-significance \\\n",
    "    --i-distance-matrix ../data/rpca_healthy_unrar/healthy_non-rar_RPCA-dm.qza \\\n",
    "    --m-metadata-file ../data/Kittybiome_Metadata_cleaned-short.txt \\\n",
    "    --m-metadata-column diet_Dry_kibble \\\n",
    "    --p-method permanova \\\n",
    "    --p-pairwise \\\n",
    "    --o-visualization ../data/rpca_healthy_unrar/healthy_unrar_rpca_bsig_kibble.qzv"
   ]
  },
  {
   "cell_type": "code",
   "execution_count": 68,
   "id": "8dd5d83c",
   "metadata": {},
   "outputs": [
    {
     "name": "stdout",
     "output_type": "stream",
     "text": [
      "\u001b[32mSaved Visualization to: ../data/rpca_healthy_unrar/healthy_unrar_rpca_bsig_can-wet-food.qzv\u001b[0m\n",
      "\u001b[0m\u001b[32mSaved Visualization to: ../data/rpca_healthy_unrar/healthy_unrar_rpca_bsig_diet-form.qzv\u001b[0m\n",
      "\u001b[0m"
     ]
    }
   ],
   "source": [
    "!qiime diversity beta-group-significance \\\n",
    "    --i-distance-matrix ../data/rpca_healthy_unrar/healthy_non-rar_RPCA-dm.qza \\\n",
    "    --m-metadata-file ../data/Kittybiome_Metadata_cleaned-short.txt \\\n",
    "    --m-metadata-column diet_Canned_wet_food \\\n",
    "    --p-method permanova \\\n",
    "    --p-pairwise \\\n",
    "    --o-visualization ../data/rpca_healthy_unrar/healthy_unrar_rpca_bsig_can-wet-food.qzv\n",
    "\n",
    "!qiime diversity beta-group-significance \\\n",
    "    --i-distance-matrix ../data/rpca_healthy_unrar/healthy_non-rar_RPCA-dm.qza \\\n",
    "    --m-metadata-file ../data/Kittybiome_Metadata_cleaned-short.txt \\\n",
    "    --m-metadata-column diet_form \\\n",
    "    --p-method permanova \\\n",
    "    --p-pairwise \\\n",
    "    --o-visualization ../data/rpca_healthy_unrar/healthy_unrar_rpca_bsig_diet-form.qzv"
   ]
  },
  {
   "cell_type": "code",
   "execution_count": 69,
   "id": "e6c53601",
   "metadata": {},
   "outputs": [
    {
     "name": "stdout",
     "output_type": "stream",
     "text": [
      "\u001b[32mSaved Visualization to: ../data/rpca_healthy_unrar/healthy_unrar_rpca-qurro.qzv\u001b[0m\r\n",
      "\u001b[0m"
     ]
    }
   ],
   "source": [
    "!qiime qurro loading-plot \\\n",
    "    --i-ranks ../data/rpca_healthy_unrar/healthy_non-rar_RPCA-ordination.qza \\\n",
    "    --i-table ../data/KittyBiome_gg2_healthy.qza \\\n",
    "    --m-sample-metadata-file ../data/Kittybiome_Metadata_cleaned-short.txt \\\n",
    "    --m-feature-metadata-file ../data/KittyBiome_taxonomy_all.qza \\\n",
    "    --o-visualization ../data/rpca_healthy_unrar/healthy_unrar_rpca-qurro.qzv"
   ]
  },
  {
   "cell_type": "markdown",
   "id": "1c2828f9",
   "metadata": {},
   "source": [
    "# PhyloRPCA"
   ]
  },
  {
   "cell_type": "markdown",
   "id": "f2df35a9",
   "metadata": {},
   "source": [
    "### Unrarefied"
   ]
  },
  {
   "cell_type": "code",
   "execution_count": 52,
   "id": "0607d594",
   "metadata": {},
   "outputs": [
    {
     "name": "stdout",
     "output_type": "stream",
     "text": [
      "\u001b[32mSaved PCoAResults % Properties('biplot') to: ../data/rpca_healthy_unrar/phyloRPCA-ordination.qza\u001b[0m\n",
      "\u001b[32mSaved DistanceMatrix to: ../data/rpca_healthy_unrar/phyloRPCA-dm.qza\u001b[0m\n",
      "\u001b[32mSaved Phylogeny[Rooted] to: ../data/rpca_healthy_unrar/phyloRPCA-tree.qza\u001b[0m\n",
      "\u001b[32mSaved FeatureTable[Frequency] to: ../data/rpca_healthy_unrar/phyloRPCA-table.qza\u001b[0m\n",
      "\u001b[32mSaved FeatureData[Taxonomy] to: ../data/rpca_healthy_unrar/phyloRPCA-taxonomy.qza\u001b[0m\n",
      "\u001b[0m"
     ]
    }
   ],
   "source": [
    "!qiime gemelli phylogenetic-rpca-with-taxonomy \\\n",
    "    --i-table ../data/KittyBiome_gg2_healthy.qza \\\n",
    "    --i-phylogeny ../../greengenes2/2022.10.phylogeny.asv.nwk.qza \\\n",
    "    --m-taxonomy-file ../data/KittyBiome_taxonomy_all.qza \\\n",
    "    --p-min-feature-count 10 \\\n",
    "    --p-min-sample-count 500 \\\n",
    "    --o-biplot ../data/rpca_healthy_unrar/phyloRPCA-ordination.qza \\\n",
    "    --o-distance-matrix ../data/rpca_healthy_unrar/phyloRPCA-dm.qza \\\n",
    "    --o-counts-by-node-tree ../data/rpca_healthy_unrar/phyloRPCA-tree.qza \\\n",
    "    --o-counts-by-node ../data/rpca_healthy_unrar/phyloRPCA-table.qza \\\n",
    "    --o-t2t-taxonomy ../data/rpca_healthy_unrar/phyloRPCA-taxonomy.qza"
   ]
  },
  {
   "cell_type": "code",
   "execution_count": 53,
   "id": "a182d70a",
   "metadata": {},
   "outputs": [
    {
     "name": "stdout",
     "output_type": "stream",
     "text": [
      "\u001b[32mSaved Visualization to: ../data/rpca_healthy_unrar/phyloRPCA-empress.qzv\u001b[0m\r\n",
      "\u001b[0m"
     ]
    }
   ],
   "source": [
    "!qiime empress community-plot \\\n",
    "    --i-tree ../data/rpca_healthy_unrar/phyloRPCA-tree.qza\\\n",
    "    --i-feature-table ../data/rpca_healthy_unrar/phyloRPCA-table.qza\\\n",
    "    --i-pcoa ../data/rpca_healthy_unrar/phyloRPCA-ordination.qza\\\n",
    "    --m-sample-metadata-file ../data/Kittybiome_Metadata_cleaned-short.txt \\\n",
    "    --m-feature-metadata-file ../data/rpca_healthy_unrar/phyloRPCA-taxonomy.qza \\\n",
    "    --p-filter-missing-features \\\n",
    "    --p-number-of-features 20 \\\n",
    "    --o-visualization ../data/rpca_healthy_unrar/phyloRPCA-empress.qzv"
   ]
  },
  {
   "cell_type": "code",
   "execution_count": 54,
   "id": "f781a173",
   "metadata": {},
   "outputs": [
    {
     "name": "stdout",
     "output_type": "stream",
     "text": [
      "\u001b[32mSaved Visualization to: ../data/rpca_healthy_unrar/phyloRPCA_empplot.qzv\u001b[0m\r\n",
      "\u001b[0m"
     ]
    }
   ],
   "source": [
    "!qiime emperor plot \\\n",
    "    --i-pcoa ../data/rpca_healthy_unrar/phyloRPCA-ordination.qza \\\n",
    "    --m-metadata-file ../data/Kittybiome_Metadata_cleaned-short.txt \\\n",
    "    --p-custom-axes host_age_years_numeric \\\n",
    "    --p-ignore-pcoa-features True \\\n",
    "    --o-visualization ../data/rpca_healthy_unrar/phyloRPCA_empplot.qzv"
   ]
  },
  {
   "cell_type": "code",
   "execution_count": 55,
   "id": "f759fac3",
   "metadata": {},
   "outputs": [
    {
     "name": "stdout",
     "output_type": "stream",
     "text": [
      "\u001b[32mSaved Visualization to: ../data/rpca_healthy_unrar/phyloRPCA_bsig_kibble.qzv\u001b[0m\n",
      "\u001b[0m\u001b[32mSaved Visualization to: ../data/rpca_healthy_unrar/phyloRPCA_bsig-permdisp_kibble.qzv\u001b[0m\n",
      "\u001b[0m\u001b[32mSaved Visualization to: ../data/rpca_healthy_unrar/phyloRPCA_bsig-anosim_kibble.qzv\u001b[0m\n",
      "\u001b[0m"
     ]
    }
   ],
   "source": [
    "!qiime diversity beta-group-significance \\\n",
    "    --i-distance-matrix ../data/rpca_healthy_unrar/phyloRPCA-dm.qza \\\n",
    "    --m-metadata-file ../data/Kittybiome_Metadata_cleaned-short.txt \\\n",
    "    --m-metadata-column diet_Dry_kibble \\\n",
    "    --p-method permanova \\\n",
    "    --p-pairwise \\\n",
    "    --o-visualization ../data/rpca_healthy_unrar/phyloRPCA_bsig_kibble.qzv\n",
    "\n",
    "!qiime diversity beta-group-significance \\\n",
    "    --i-distance-matrix ../data/rpca_healthy_unrar/phyloRPCA-dm.qza \\\n",
    "    --m-metadata-file ../data/Kittybiome_Metadata_cleaned-short.txt \\\n",
    "    --m-metadata-column diet_Dry_kibble \\\n",
    "    --p-method permdisp \\\n",
    "    --p-pairwise \\\n",
    "    --o-visualization ../data/rpca_healthy_unrar/phyloRPCA_bsig-permdisp_kibble.qzv\n",
    "\n",
    "!qiime diversity beta-group-significance \\\n",
    "    --i-distance-matrix ../data/rpca_healthy_unrar/phyloRPCA-dm.qza \\\n",
    "    --m-metadata-file ../data/Kittybiome_Metadata_cleaned-short.txt \\\n",
    "    --m-metadata-column diet_Dry_kibble \\\n",
    "    --p-method anosim \\\n",
    "    --p-pairwise \\\n",
    "    --o-visualization ../data/rpca_healthy_unrar/phyloRPCA_bsig-anosim_kibble.qzv"
   ]
  },
  {
   "cell_type": "code",
   "execution_count": 56,
   "id": "e4ad26dc",
   "metadata": {},
   "outputs": [
    {
     "name": "stdout",
     "output_type": "stream",
     "text": [
      "\u001b[32mSaved Visualization to: ../data/rpca_healthy_unrar/phyloRPCA_bsig_can-wet-food.qzv\u001b[0m\n",
      "\u001b[0m\u001b[32mSaved Visualization to: ../data/rpca_healthy_unrar/phyloRPCA_bsig_diet-form.qzv\u001b[0m\n",
      "\u001b[0m"
     ]
    }
   ],
   "source": [
    "!qiime diversity beta-group-significance \\\n",
    "    --i-distance-matrix ../data/rpca_healthy_unrar/phyloRPCA-dm.qza \\\n",
    "    --m-metadata-file ../data/Kittybiome_Metadata_cleaned-short.txt \\\n",
    "    --m-metadata-column diet_Canned_wet_food \\\n",
    "    --p-method permanova \\\n",
    "    --p-pairwise \\\n",
    "    --o-visualization ../data/rpca_healthy_unrar/phyloRPCA_bsig_can-wet-food.qzv\n",
    "\n",
    "!qiime diversity beta-group-significance \\\n",
    "    --i-distance-matrix ../data/rpca_healthy_unrar/phyloRPCA-dm.qza \\\n",
    "    --m-metadata-file ../data/Kittybiome_Metadata_cleaned-short.txt \\\n",
    "    --m-metadata-column diet_form \\\n",
    "    --p-method permanova \\\n",
    "    --p-pairwise \\\n",
    "    --o-visualization ../data/rpca_healthy_unrar/phyloRPCA_bsig_diet-form.qzv"
   ]
  },
  {
   "cell_type": "code",
   "execution_count": 57,
   "id": "19c06701",
   "metadata": {},
   "outputs": [
    {
     "name": "stdout",
     "output_type": "stream",
     "text": [
      "\u001b[32mSaved Visualization to: ../data/rpca_healthy_unrar/phyloRPCA-qurro.qzv\u001b[0m\r\n",
      "\u001b[0m"
     ]
    }
   ],
   "source": [
    "!qiime qurro loading-plot \\\n",
    "    --i-ranks ../data/rpca_healthy_unrar/phyloRPCA-ordination.qza \\\n",
    "    --i-table ../data/rpca_healthy_unrar/phyloRPCA-table.qza \\\n",
    "    --m-sample-metadata-file ../data/Kittybiome_Metadata_cleaned-short.txt \\\n",
    "    --m-feature-metadata-file ../data/KittyBiome_taxonomy_all.qza \\\n",
    "    --o-visualization ../data/rpca_healthy_unrar/phyloRPCA-qurro.qzv"
   ]
  },
  {
   "cell_type": "code",
   "execution_count": 58,
   "id": "9309d8a3",
   "metadata": {},
   "outputs": [
    {
     "name": "stdout",
     "output_type": "stream",
     "text": [
      "\u001b[32mSaved Visualization to: ../data/rpca_healthy_unrar/phyloRPCA_adonis_kibble.qzv\u001b[0m\n",
      "\u001b[0m\u001b[32mSaved Visualization to: ../data/rpca_healthy_unrar/phyloRPCA_adonis_kibble-bcs.qzv\u001b[0m\n",
      "\u001b[0m\u001b[32mSaved Visualization to: ../data/rpca_healthy_unrar/phyloRPCA_adonis_kibble-sex.qzv\u001b[0m\n",
      "\u001b[0m\u001b[32mSaved Visualization to: ../data/rpca_healthy_unrar/phyloRPCA_adonis_bcs-age.qzv\u001b[0m\n",
      "\u001b[0m"
     ]
    }
   ],
   "source": [
    "!qiime diversity adonis \\\n",
    "    --i-distance-matrix ../data/rpca_healthy_unrar/phyloRPCA-dm.qza \\\n",
    "    --m-metadata-file ../data/Kittybiome_Metadata_cleaned-unknowns.txt \\\n",
    "    --p-formula \"diet_Dry_kibble\" \\\n",
    "    --o-visualization ../data/rpca_healthy_unrar/phyloRPCA_adonis_kibble.qzv\n",
    "\n",
    "!qiime diversity adonis \\\n",
    "    --i-distance-matrix ../data/rpca_healthy_unrar/phyloRPCA-dm.qza \\\n",
    "    --m-metadata-file ../data/Kittybiome_Metadata_cleaned-unknowns.txt \\\n",
    "    --p-formula \"diet_Dry_kibble+body_condition_category\" \\\n",
    "    --o-visualization ../data/rpca_healthy_unrar/phyloRPCA_adonis_kibble-bcs.qzv\n",
    "\n",
    "!qiime diversity adonis \\\n",
    "    --i-distance-matrix ../data/rpca_healthy_unrar/phyloRPCA-dm.qza \\\n",
    "    --m-metadata-file ../data/Kittybiome_Metadata_cleaned-unknowns.txt \\\n",
    "    --p-formula \"diet_Dry_kibble+Sex\" \\\n",
    "    --o-visualization ../data/rpca_healthy_unrar/phyloRPCA_adonis_kibble-sex.qzv\n",
    "\n",
    "!qiime diversity adonis \\\n",
    "    --i-distance-matrix ../data/rpca_healthy_unrar/phyloRPCA-dm.qza \\\n",
    "    --m-metadata-file ../data/Kittybiome_Metadata_cleaned-unknowns.txt \\\n",
    "    --p-formula \"body_condition_category+Age_Group\" \\\n",
    "    --o-visualization ../data/rpca_healthy_unrar/phyloRPCA_adonis_bcs-age.qzv\n",
    "#adonis requires metadata columns with no NaN values"
   ]
  },
  {
   "cell_type": "code",
   "execution_count": 59,
   "id": "761579fe",
   "metadata": {},
   "outputs": [
    {
     "name": "stdout",
     "output_type": "stream",
     "text": [
      "\u001b[32mSaved Visualization to: ../data/rpca_healthy_unrar/phyloRPCA_adonis_kibble-int-bcs.qzv\u001b[0m\n",
      "\u001b[0m"
     ]
    }
   ],
   "source": [
    "!qiime diversity adonis \\\n",
    "    --i-distance-matrix ../data/rpca_healthy_unrar/phyloRPCA-dm.qza \\\n",
    "    --m-metadata-file ../data/Kittybiome_Metadata_cleaned-unknowns.txt \\\n",
    "    --p-formula \"diet_Dry_kibble*body_condition_category\" \\\n",
    "    --o-visualization ../data/rpca_healthy_unrar/phyloRPCA_adonis_kibble-int-bcs.qzv"
   ]
  },
  {
   "cell_type": "code",
   "execution_count": 60,
   "id": "5465d82f",
   "metadata": {},
   "outputs": [
    {
     "name": "stdout",
     "output_type": "stream",
     "text": [
      "\u001b[32mSaved Visualization to: ../data/rpca_healthy_unrar/phyloRPCA_adonis_int-kibble-bcs-sex-age.qzv\u001b[0m\r\n",
      "\u001b[0m"
     ]
    }
   ],
   "source": [
    "!qiime diversity adonis \\\n",
    "    --i-distance-matrix ../data/rpca_healthy_unrar/phyloRPCA-dm.qza \\\n",
    "    --m-metadata-file ../data/Kittybiome_Metadata_cleaned-unknowns.txt \\\n",
    "    --p-formula \"diet_Dry_kibble*body_condition_category*Sex*Age_Group\" \\\n",
    "    --o-visualization ../data/rpca_healthy_unrar/phyloRPCA_adonis_int-kibble-bcs-sex-age.qzv"
   ]
  },
  {
   "cell_type": "markdown",
   "id": "baa84d21",
   "metadata": {},
   "source": [
    "### Just for known dietary forms"
   ]
  },
  {
   "cell_type": "code",
   "execution_count": 10,
   "id": "2966eb0e",
   "metadata": {},
   "outputs": [
    {
     "name": "stdout",
     "output_type": "stream",
     "text": [
      "\u001b[32mSaved PCoAResults % Properties('biplot') to: ../data/rpca_healthy_unrar/phyloRPCA_diet-form_ordination.qza\u001b[0m\n",
      "\u001b[32mSaved DistanceMatrix to: ../data/rpca_healthy_unrar/phyloRPCA_diet-form_dm.qza\u001b[0m\n",
      "\u001b[32mSaved Phylogeny[Rooted] to: ../data/rpca_healthy_unrar/phyloRPCA_diet-form_tree.qza\u001b[0m\n",
      "\u001b[32mSaved FeatureTable[Frequency] to: ../data/rpca_healthy_unrar/phyloRPCA_diet-form_table.qza\u001b[0m\n",
      "\u001b[32mSaved FeatureData[Taxonomy] to: ../data/rpca_healthy_unrar/phyloRPCA_diet-form_taxonomy.qza\u001b[0m\n",
      "\u001b[0m"
     ]
    }
   ],
   "source": [
    "!qiime gemelli phylogenetic-rpca-with-taxonomy \\\n",
    "    --i-table ../data/rpca_healthy_unrar/KittyBiome_gg2_healthy_diet-form.qza \\\n",
    "    --i-phylogeny ../../greengenes2/2022.10.phylogeny.asv.nwk.qza \\\n",
    "    --m-taxonomy-file ../data/KittyBiome_taxonomy_all.qza \\\n",
    "    --p-min-feature-count 10 \\\n",
    "    --p-min-sample-count 500 \\\n",
    "    --o-biplot ../data/rpca_healthy_unrar/phyloRPCA_diet-form_ordination.qza \\\n",
    "    --o-distance-matrix ../data/rpca_healthy_unrar/phyloRPCA_diet-form_dm.qza \\\n",
    "    --o-counts-by-node-tree ../data/rpca_healthy_unrar/phyloRPCA_diet-form_tree.qza \\\n",
    "    --o-counts-by-node ../data/rpca_healthy_unrar/phyloRPCA_diet-form_table.qza \\\n",
    "    --o-t2t-taxonomy ../data/rpca_healthy_unrar/phyloRPCA_diet-form_taxonomy.qza"
   ]
  },
  {
   "cell_type": "code",
   "execution_count": 11,
   "id": "1b0b7021",
   "metadata": {},
   "outputs": [
    {
     "name": "stdout",
     "output_type": "stream",
     "text": [
      "\u001b[32mSaved Visualization to: ../data/rpca_healthy_unrar/phyloRPCA_diet-form-only_empplot.qzv\u001b[0m\r\n",
      "\u001b[0m"
     ]
    }
   ],
   "source": [
    "!qiime emperor plot \\\n",
    "    --i-pcoa ../data/rpca_healthy_unrar/phyloRPCA_diet-form_ordination.qza \\\n",
    "    --m-metadata-file ../data/Kittybiome_Metadata_cleaned-short.txt \\\n",
    "    --p-custom-axes host_age_years_numeric \\\n",
    "    --p-ignore-pcoa-features True \\\n",
    "    --o-visualization ../data/rpca_healthy_unrar/phyloRPCA_diet-form-only_empplot.qzv"
   ]
  },
  {
   "cell_type": "code",
   "execution_count": 12,
   "id": "e3124943",
   "metadata": {},
   "outputs": [
    {
     "name": "stdout",
     "output_type": "stream",
     "text": [
      "\u001b[32mSaved Visualization to: ../data/rpca_healthy_unrar/phyloRPCA_diet-form-only_bsig-diet-form.qzv\u001b[0m\r\n",
      "\u001b[0m"
     ]
    }
   ],
   "source": [
    "!qiime diversity beta-group-significance \\\n",
    "    --i-distance-matrix ../data/rpca_healthy_unrar/healthy_unrar_RPCA_diet-form_dm.qza \\\n",
    "    --m-metadata-file ../data/Kittybiome_Metadata_cleaned-short.txt \\\n",
    "    --m-metadata-column diet_form \\\n",
    "    --p-method permanova \\\n",
    "    --p-pairwise \\\n",
    "    --o-visualization ../data/rpca_healthy_unrar/phyloRPCA_diet-form-only_bsig-diet-form.qzv"
   ]
  },
  {
   "cell_type": "markdown",
   "id": "d692b42c",
   "metadata": {},
   "source": [
    "### Kibble Yes/No only"
   ]
  },
  {
   "cell_type": "code",
   "execution_count": 83,
   "id": "8dd19131",
   "metadata": {},
   "outputs": [
    {
     "name": "stdout",
     "output_type": "stream",
     "text": [
      "\u001b[32mSaved PCoAResults % Properties('biplot') to: ../data/rpca_healthy_unrar/phyloRPCA_kibble_ordination.qza\u001b[0m\n",
      "\u001b[32mSaved DistanceMatrix to: ../data/rpca_healthy_unrar/phyloRPCA_kibble_dm.qza\u001b[0m\n",
      "\u001b[32mSaved Phylogeny[Rooted] to: ../data/rpca_healthy_unrar/phyloRPCA_kibble_tree.qza\u001b[0m\n",
      "\u001b[32mSaved FeatureTable[Frequency] to: ../data/rpca_healthy_unrar/phyloRPCA_kibble_table.qza\u001b[0m\n",
      "\u001b[32mSaved FeatureData[Taxonomy] to: ../data/rpca_healthy_unrar/phyloRPCA_kibble_taxonomy.qza\u001b[0m\n",
      "\u001b[0m"
     ]
    }
   ],
   "source": [
    "!qiime gemelli phylogenetic-rpca-with-taxonomy \\\n",
    "    --i-table ../data/rpca_healthy_unrar/KittyBiome_gg2_healthy_kibble.qza \\\n",
    "    --i-phylogeny ../../greengenes2/2022.10.phylogeny.asv.nwk.qza \\\n",
    "    --m-taxonomy-file ../data/KittyBiome_taxonomy_all.qza \\\n",
    "    --p-min-feature-count 10 \\\n",
    "    --p-min-sample-count 500 \\\n",
    "    --o-biplot ../data/rpca_healthy_unrar/phyloRPCA_kibble_ordination.qza \\\n",
    "    --o-distance-matrix ../data/rpca_healthy_unrar/phyloRPCA_kibble_dm.qza \\\n",
    "    --o-counts-by-node-tree ../data/rpca_healthy_unrar/phyloRPCA_kibble_tree.qza \\\n",
    "    --o-counts-by-node ../data/rpca_healthy_unrar/phyloRPCA_kibble_table.qza \\\n",
    "    --o-t2t-taxonomy ../data/rpca_healthy_unrar/phyloRPCA_kibble_taxonomy.qza"
   ]
  },
  {
   "cell_type": "code",
   "execution_count": 84,
   "id": "7a908c27",
   "metadata": {},
   "outputs": [
    {
     "name": "stdout",
     "output_type": "stream",
     "text": [
      "\u001b[32mSaved Visualization to: ../data/rpca_healthy_unrar/phyloRPCA_kibble-only_empplot.qzv\u001b[0m\r\n",
      "\u001b[0m"
     ]
    }
   ],
   "source": [
    "!qiime emperor plot \\\n",
    "    --i-pcoa ../data/rpca_healthy_unrar/phyloRPCA_kibble_ordination.qza \\\n",
    "    --m-metadata-file ../data/Kittybiome_Metadata_cleaned-short.txt \\\n",
    "    --p-custom-axes host_age_years_numeric \\\n",
    "    --p-ignore-pcoa-features True \\\n",
    "    --o-visualization ../data/rpca_healthy_unrar/phyloRPCA_kibble-only_empplot.qzv"
   ]
  },
  {
   "cell_type": "code",
   "execution_count": 85,
   "id": "42983f1f",
   "metadata": {},
   "outputs": [
    {
     "name": "stdout",
     "output_type": "stream",
     "text": [
      "\u001b[32mSaved Visualization to: ../data/rpca_healthy_unrar/phyloRPCA_kibble_bsig-kibble.qzv\u001b[0m\r\n",
      "\u001b[0m"
     ]
    }
   ],
   "source": [
    "!qiime diversity beta-group-significance \\\n",
    "    --i-distance-matrix ../data/rpca_healthy_unrar/phyloRPCA_kibble_dm.qza \\\n",
    "    --m-metadata-file ../data/Kittybiome_Metadata_cleaned-short.txt \\\n",
    "    --m-metadata-column diet_Dry_kibble \\\n",
    "    --p-method permanova \\\n",
    "    --p-pairwise \\\n",
    "    --o-visualization ../data/rpca_healthy_unrar/phyloRPCA_kibble_bsig-kibble.qzv"
   ]
  },
  {
   "cell_type": "markdown",
   "id": "3e4d25f0",
   "metadata": {},
   "source": [
    "### Ends"
   ]
  },
  {
   "cell_type": "markdown",
   "id": "d01eff39",
   "metadata": {},
   "source": [
    "# Random Forest"
   ]
  },
  {
   "cell_type": "markdown",
   "id": "bb9f381b",
   "metadata": {},
   "source": [
    "Tutorial: https://docs.qiime2.org/2024.10/tutorials/sample-classifier/"
   ]
  },
  {
   "cell_type": "markdown",
   "id": "b86d91e7",
   "metadata": {},
   "source": [
    "### Regular Random Forest - Diet Form"
   ]
  },
  {
   "cell_type": "code",
   "execution_count": 113,
   "id": "8af47375",
   "metadata": {},
   "outputs": [
    {
     "name": "stdout",
     "output_type": "stream",
     "text": [
      "\u001b[32mSaved SampleEstimator[Classifier] to: ../data/rfclassifier-results_diet-form/sample_estimator.qza\u001b[0m\n",
      "\u001b[32mSaved FeatureData[Importance] to: ../data/rfclassifier-results_diet-form/feature_importance.qza\u001b[0m\n",
      "\u001b[32mSaved SampleData[ClassifierPredictions] to: ../data/rfclassifier-results_diet-form/predictions.qza\u001b[0m\n",
      "\u001b[32mSaved Visualization to: ../data/rfclassifier-results_diet-form/model_summary.qzv\u001b[0m\n",
      "\u001b[32mSaved Visualization to: ../data/rfclassifier-results_diet-form/accuracy_results.qzv\u001b[0m\n",
      "\u001b[32mSaved SampleData[Probabilities] to: ../data/rfclassifier-results_diet-form/probabilities.qza\u001b[0m\n",
      "\u001b[32mSaved Visualization to: ../data/rfclassifier-results_diet-form/heatmap.qzv\u001b[0m\n",
      "\u001b[32mSaved SampleData[TrueTargets] to: ../data/rfclassifier-results_diet-form/training_targets.qza\u001b[0m\n",
      "\u001b[32mSaved SampleData[TrueTargets] to: ../data/rfclassifier-results_diet-form/test_targets.qza\u001b[0m\n",
      "\u001b[0m"
     ]
    }
   ],
   "source": [
    "!qiime sample-classifier classify-samples \\\n",
    "  --i-table ../data/rpca_healthy_unrar/KittyBiome_gg2_healthy_diet-form.qza \\\n",
    "  --m-metadata-file ../data/Kittybiome_Metadata_cleaned-short.txt \\\n",
    "  --m-metadata-column diet_form \\\n",
    "  --p-test-size 0.25 \\\n",
    "  --p-random-state 2025 \\\n",
    "  --p-estimator 'RandomForestClassifier' \\\n",
    "  --o-sample-estimator ../data/rfclassifier-results_diet-form/sample_estimator.qza \\\n",
    "  --o-feature-importance ../data/rfclassifier-results_diet-form/feature_importance.qza \\\n",
    "  --o-predictions ../data/rfclassifier-results_diet-form/predictions.qza \\\n",
    "  --o-model-summary ../data/rfclassifier-results_diet-form/model_summary.qzv \\\n",
    "  --o-accuracy-results ../data/rfclassifier-results_diet-form/accuracy_results.qzv \\\n",
    "  --o-probabilities ../data/rfclassifier-results_diet-form/probabilities.qza \\\n",
    "  --o-heatmap ../data/rfclassifier-results_diet-form/heatmap.qzv \\\n",
    "  --o-training-targets ../data/rfclassifier-results_diet-form/training_targets.qza \\\n",
    "  --o-test-targets ../data/rfclassifier-results_diet-form/test_targets.qza"
   ]
  },
  {
   "cell_type": "code",
   "execution_count": 114,
   "id": "130cb3f2",
   "metadata": {},
   "outputs": [
    {
     "name": "stdout",
     "output_type": "stream",
     "text": [
      "\u001b[32mSaved Visualization to: ../data/rfclassifier-results_diet-form/heatmap_100-features.qzv\u001b[0m\r\n",
      "\u001b[32mSaved FeatureTable[Frequency] to: ../data/rfclassifier-results_diet-form/filtered-table_100-features.qza\u001b[0m\r\n",
      "\u001b[0m"
     ]
    }
   ],
   "source": [
    "!qiime sample-classifier heatmap \\\n",
    "  --i-table ../data/rpca_healthy_unrar/KittyBiome_gg2_healthy_diet-form.qza \\\n",
    "  --m-sample-metadata-file ../data/Kittybiome_Metadata_cleaned-short.txt \\\n",
    "  --m-sample-metadata-column diet_form \\\n",
    "  --i-importance ../data/rfclassifier-results_diet-form/feature_importance.qza \\\n",
    "  --p-group-samples \\\n",
    "  --p-feature-count 100 \\\n",
    "  --o-filtered-table ../data/rfclassifier-results_diet-form/filtered-table_100-features.qza \\\n",
    "  --o-heatmap ../data/rfclassifier-results_diet-form/heatmap_100-features.qzv\n"
   ]
  },
  {
   "cell_type": "code",
   "execution_count": 115,
   "id": "6cb01b60",
   "metadata": {},
   "outputs": [
    {
     "name": "stdout",
     "output_type": "stream",
     "text": [
      "\u001b[32mSaved Visualization to: ../data/rfclassifier-results_diet-form/probabilities.qzv\u001b[0m\r\n",
      "\u001b[0m"
     ]
    }
   ],
   "source": [
    "!qiime metadata tabulate \\\n",
    "  --m-input-file ../data/rfclassifier-results_diet-form/probabilities.qza \\\n",
    "  --o-visualization ../data/rfclassifier-results_diet-form/probabilities.qzv"
   ]
  },
  {
   "cell_type": "code",
   "execution_count": 116,
   "id": "fc2775f7",
   "metadata": {},
   "outputs": [
    {
     "name": "stdout",
     "output_type": "stream",
     "text": [
      "\u001b[32mSaved Visualization to: ../data/rfclassifier-results_diet-form/test_targets_predictions.qzv\u001b[0m\r\n",
      "\u001b[0m"
     ]
    }
   ],
   "source": [
    "!qiime metadata tabulate \\\n",
    "  --m-input-file ../data/rfclassifier-results_diet-form/test_targets.qza \\\n",
    "  --m-input-file ../data/rfclassifier-results_diet-form/predictions.qza \\\n",
    "  --o-visualization ../data/rfclassifier-results_diet-form/test_targets_predictions.qzv"
   ]
  },
  {
   "cell_type": "code",
   "execution_count": 117,
   "id": "1de10083",
   "metadata": {},
   "outputs": [
    {
     "name": "stdout",
     "output_type": "stream",
     "text": [
      "\u001b[32mSaved Visualization to: ../data/rfclassifier-results_diet-form/feature_importance.qzv\u001b[0m\r\n",
      "\u001b[0m"
     ]
    }
   ],
   "source": [
    "!qiime metadata tabulate \\\n",
    "  --m-input-file ../data/rfclassifier-results_diet-form/feature_importance.qza \\\n",
    "  --o-visualization ../data/rfclassifier-results_diet-form/feature_importance.qzv"
   ]
  },
  {
   "cell_type": "code",
   "execution_count": null,
   "id": "06ed38eb",
   "metadata": {},
   "outputs": [],
   "source": [
    "#seems to indicate predicting wet food is easier?"
   ]
  },
  {
   "cell_type": "code",
   "execution_count": null,
   "id": "c698984e",
   "metadata": {},
   "outputs": [],
   "source": [
    "qiime sample-classifier predict-classification \\\n",
    "  --i-table moving-pictures-table.qza \\\n",
    "  --i-sample-estimator moving-pictures-classifier/sample_estimator.qza \\\n",
    "  --o-predictions moving-pictures-classifier/new_predictions.qza \\\n",
    "  --o-probabilities moving-pictures-classifier/new_probabilities.qza\n",
    "#test additional samples - unknowns?"
   ]
  },
  {
   "cell_type": "code",
   "execution_count": null,
   "id": "3b9e3902",
   "metadata": {},
   "outputs": [],
   "source": [
    "qiime sample-classifier confusion-matrix \\\n",
    "  --i-predictions moving-pictures-classifier/new_predictions.qza \\\n",
    "  --i-probabilities moving-pictures-classifier/new_probabilities.qza \\\n",
    "  --m-truth-file moving-pictures-sample-metadata.tsv \\\n",
    "  --m-truth-column body-site \\\n",
    "  --o-visualization moving-pictures-classifier/new_confusion_matrix.qzv\n",
    "#if know truth of new samples"
   ]
  },
  {
   "cell_type": "markdown",
   "id": "e3848d97",
   "metadata": {},
   "source": [
    "### Regular Random Forest - Kibble"
   ]
  },
  {
   "cell_type": "code",
   "execution_count": 136,
   "id": "68ff7176",
   "metadata": {},
   "outputs": [
    {
     "name": "stdout",
     "output_type": "stream",
     "text": [
      "\u001b[32mSaved SampleEstimator[Classifier] to: ../data/rfclassifier-results-kibble/sample_estimator.qza\u001b[0m\n",
      "\u001b[32mSaved FeatureData[Importance] to: ../data/rfclassifier-results-kibble/feature_importance.qza\u001b[0m\n",
      "\u001b[32mSaved SampleData[ClassifierPredictions] to: ../data/rfclassifier-results-kibble/predictions.qza\u001b[0m\n",
      "\u001b[32mSaved Visualization to: ../data/rfclassifier-results-kibble/model_summary.qzv\u001b[0m\n",
      "\u001b[32mSaved Visualization to: ../data/rfclassifier-results-kibble/accuracy_results.qzv\u001b[0m\n",
      "\u001b[32mSaved SampleData[Probabilities] to: ../data/rfclassifier-results-kibble/probabilities.qza\u001b[0m\n",
      "\u001b[32mSaved Visualization to: ../data/rfclassifier-results-kibble/heatmap.qzv\u001b[0m\n",
      "\u001b[32mSaved SampleData[TrueTargets] to: ../data/rfclassifier-results-kibble/training_targets.qza\u001b[0m\n",
      "\u001b[32mSaved SampleData[TrueTargets] to: ../data/rfclassifier-results-kibble/test_targets.qza\u001b[0m\n",
      "\u001b[0m"
     ]
    }
   ],
   "source": [
    "!qiime sample-classifier classify-samples \\\n",
    "  --i-table ../data/rpca_healthy_unrar/KittyBiome_gg2_healthy_kibble.qza \\\n",
    "  --m-metadata-file ../data/Kittybiome_Metadata_cleaned-short.txt \\\n",
    "  --m-metadata-column diet_Dry_kibble \\\n",
    "  --p-test-size 0.25 \\\n",
    "  --p-random-state 2024 \\\n",
    "  --p-estimator 'RandomForestClassifier' \\\n",
    "  --o-sample-estimator ../data/rfclassifier-results-kibble/sample_estimator.qza \\\n",
    "  --o-feature-importance ../data/rfclassifier-results-kibble/feature_importance.qza \\\n",
    "  --o-predictions ../data/rfclassifier-results-kibble/predictions.qza \\\n",
    "  --o-model-summary ../data/rfclassifier-results-kibble/model_summary.qzv \\\n",
    "  --o-accuracy-results ../data/rfclassifier-results-kibble/accuracy_results.qzv \\\n",
    "  --o-probabilities ../data/rfclassifier-results-kibble/probabilities.qza \\\n",
    "  --o-heatmap ../data/rfclassifier-results-kibble/heatmap.qzv \\\n",
    "  --o-training-targets ../data/rfclassifier-results-kibble/training_targets.qza \\\n",
    "  --o-test-targets ../data/rfclassifier-results-kibble/test_targets.qza"
   ]
  },
  {
   "cell_type": "code",
   "execution_count": 137,
   "id": "e9155ed4",
   "metadata": {},
   "outputs": [
    {
     "name": "stdout",
     "output_type": "stream",
     "text": [
      "\u001b[32mSaved Visualization to: ../data/rfclassifier-results-kibble/heatmap_100-features.qzv\u001b[0m\n",
      "\u001b[32mSaved FeatureTable[Frequency] to: ../data/rfclassifier-results-kibble/filtered-table_100-features.qza\u001b[0m\n",
      "\u001b[0m"
     ]
    }
   ],
   "source": [
    "!qiime sample-classifier heatmap \\\n",
    "  --i-table ../data/rpca_healthy_unrar/KittyBiome_gg2_healthy_kibble.qza \\\n",
    "  --m-sample-metadata-file ../data/Kittybiome_Metadata_cleaned-short.txt \\\n",
    "  --m-sample-metadata-column diet_Dry_kibble \\\n",
    "  --i-importance ../data/rfclassifier-results-kibble/feature_importance.qza \\\n",
    "  --p-group-samples \\\n",
    "  --p-feature-count 100 \\\n",
    "  --o-filtered-table ../data/rfclassifier-results-kibble/filtered-table_100-features.qza \\\n",
    "  --o-heatmap ../data/rfclassifier-results-kibble/heatmap_100-features.qzv\n"
   ]
  },
  {
   "cell_type": "code",
   "execution_count": 141,
   "id": "50de1f7a",
   "metadata": {},
   "outputs": [
    {
     "name": "stdout",
     "output_type": "stream",
     "text": [
      "\u001b[32mExported ../data/rfclassifier-results-kibble/filtered-table_100-features.qza as BIOMV210DirFmt to directory ../data/rfclassifier-results-kibble/filtered-table_100-features\u001b[0m\r\n",
      "\u001b[0m"
     ]
    }
   ],
   "source": [
    "!qiime tools export \\\n",
    "    --input-path ../data/rfclassifier-results-kibble/filtered-table_100-features.qza \\\n",
    "    --output-path ../data/rfclassifier-results-kibble/filtered-table_100-features\n",
    "\n",
    "!biom convert -i ../data/rfclassifier-results-kibble/filtered-table_100-features/feature-table.biom -o ../data/rfclassifier-results-kibble/filtered-table_100-features/feature-table.tsv --to-tsv"
   ]
  },
  {
   "cell_type": "code",
   "execution_count": 138,
   "id": "692d6dc1",
   "metadata": {},
   "outputs": [
    {
     "name": "stdout",
     "output_type": "stream",
     "text": [
      "\u001b[32mSaved Visualization to: ../data/rfclassifier-results-kibble/heatmap_10-features.qzv\u001b[0m\r\n",
      "\u001b[32mSaved FeatureTable[Frequency] to: ../data/rfclassifier-results-kibble/filtered-table_10-features.qza\u001b[0m\r\n",
      "\u001b[0m"
     ]
    }
   ],
   "source": [
    "!qiime sample-classifier heatmap \\\n",
    "  --i-table ../data/rpca_healthy_unrar/KittyBiome_gg2_healthy_kibble.qza \\\n",
    "  --m-sample-metadata-file ../data/Kittybiome_Metadata_cleaned-short.txt \\\n",
    "  --m-sample-metadata-column diet_Dry_kibble \\\n",
    "  --i-importance ../data/rfclassifier-results-kibble/feature_importance.qza \\\n",
    "  --p-group-samples \\\n",
    "  --p-feature-count 10 \\\n",
    "  --o-filtered-table ../data/rfclassifier-results-kibble/filtered-table_10-features.qza \\\n",
    "  --o-heatmap ../data/rfclassifier-results-kibble/heatmap_10-features.qzv"
   ]
  },
  {
   "cell_type": "code",
   "execution_count": 139,
   "id": "83f425c1",
   "metadata": {},
   "outputs": [
    {
     "name": "stdout",
     "output_type": "stream",
     "text": [
      "\u001b[32mExported ../data/rfclassifier-results-kibble/filtered-table_10-features.qza as BIOMV210DirFmt to directory ../data/rfclassifier-results-kibble/filtered-table_10-features\u001b[0m\r\n",
      "\u001b[0m"
     ]
    }
   ],
   "source": [
    "!qiime tools export \\\n",
    "    --input-path ../data/rfclassifier-results-kibble/filtered-table_10-features.qza \\\n",
    "    --output-path ../data/rfclassifier-results-kibble/filtered-table_10-features\n",
    "\n",
    "!biom convert -i ../data/rfclassifier-results-kibble/filtered-table_10-features/feature-table.biom -o ../data/rfclassifier-results-kibble/filtered-table_10-features/feature-table.tsv --to-tsv"
   ]
  },
  {
   "cell_type": "code",
   "execution_count": 119,
   "id": "5611d417",
   "metadata": {},
   "outputs": [
    {
     "name": "stdout",
     "output_type": "stream",
     "text": [
      "\u001b[32mSaved Visualization to: ../data/rfclassifier-results-kibble/probabilities.qzv\u001b[0m\r\n",
      "\u001b[0m"
     ]
    }
   ],
   "source": [
    "!qiime metadata tabulate \\\n",
    "  --m-input-file ../data/rfclassifier-results-kibble/probabilities.qza \\\n",
    "  --o-visualization ../data/rfclassifier-results-kibble/probabilities.qzv"
   ]
  },
  {
   "cell_type": "code",
   "execution_count": 120,
   "id": "5d39fb44",
   "metadata": {},
   "outputs": [
    {
     "name": "stdout",
     "output_type": "stream",
     "text": [
      "\u001b[32mSaved Visualization to: ../data/rfclassifier-results-kibble/test_targets_predictions.qzv\u001b[0m\r\n",
      "\u001b[0m"
     ]
    }
   ],
   "source": [
    "!qiime metadata tabulate \\\n",
    "  --m-input-file ../data/rfclassifier-results-kibble/test_targets.qza \\\n",
    "  --m-input-file ../data/rfclassifier-results-kibble/predictions.qza \\\n",
    "  --o-visualization ../data/rfclassifier-results-kibble/test_targets_predictions.qzv"
   ]
  },
  {
   "cell_type": "code",
   "execution_count": 121,
   "id": "43b01520",
   "metadata": {
    "scrolled": true
   },
   "outputs": [
    {
     "name": "stdout",
     "output_type": "stream",
     "text": [
      "\u001b[32mSaved Visualization to: ../data/rfclassifier-results-kibble/feature_importance.qzv\u001b[0m\r\n",
      "\u001b[0m"
     ]
    }
   ],
   "source": [
    "!qiime metadata tabulate \\\n",
    "  --m-input-file ../data/rfclassifier-results-kibble/feature_importance.qza \\\n",
    "  --o-visualization ../data/rfclassifier-results-kibble/feature_importance.qzv"
   ]
  },
  {
   "cell_type": "code",
   "execution_count": null,
   "id": "305f63f0",
   "metadata": {},
   "outputs": [],
   "source": []
  }
 ],
 "metadata": {
  "kernelspec": {
   "display_name": "Python 3 (ipykernel)",
   "language": "python",
   "name": "python3"
  },
  "language_info": {
   "codemirror_mode": {
    "name": "ipython",
    "version": 3
   },
   "file_extension": ".py",
   "mimetype": "text/x-python",
   "name": "python",
   "nbconvert_exporter": "python",
   "pygments_lexer": "ipython3",
   "version": "3.9.19"
  }
 },
 "nbformat": 4,
 "nbformat_minor": 5
}
